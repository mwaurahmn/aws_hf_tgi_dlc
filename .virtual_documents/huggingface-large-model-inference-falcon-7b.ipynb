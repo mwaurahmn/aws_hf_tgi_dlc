











get_ipython().run_line_magic("pip", " install \"sagemaker>=2.163.0\"")





import sagemaker
from sagemaker.huggingface import HuggingFaceModel, get_huggingface_llm_image_uri
import time

sagemaker_session = sagemaker.Session()
region = sagemaker_session.boto_region_name
role = sagemaker.get_execution_role()





image_uri = get_huggingface_llm_image_uri(
  backend="huggingface", # or lmi
  region=region
)








model_name = "falcon-7b-" + time.strftime("%Y-%m-%d-%H-%M-%S", time.gmtime())

hub = {
    'HF_MODEL_ID':'tiiuae/falcon-7b',
    'HF_TASK':'text-generation',
    'SM_NUM_GPUS':'1' # Setting to 1 because sharding is not supported for this model
}

model = HuggingFaceModel(
    name=model_name,
    env=hub,
    role=role,
    image_uri=image_uri
)








predictor = model.deploy(
    initial_instance_count=1,
    instance_type="ml.g5.2xlarge",
    endpoint_name=model_name
)








input_data = {
  "inputs": "The diamondback terrapin was the first reptile to",
  "parameters": {
    "do_sample": True,
    "max_new_tokens": 100,
    "temperature": 0.7,
    "watermark": True
  }
}

predictor.predict(input_data)








predictor.delete_model()
predictor.delete_endpoint()



